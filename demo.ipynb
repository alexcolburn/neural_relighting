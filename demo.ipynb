{
  "cells": [
    {
      "cell_type": "code",
      "execution_count": null,
      "metadata": {
        "collapsed": true,
        "pycharm": {
          "is_executing": true
        }
      },
      "outputs": [
        {
          "name": "stdout",
          "text": [
            "data\\waldorf\nReading: RGBDATA_exposure_compensate4_22.hdf5\n",
            "read raw data\n",
            "_________________________________________________________________\nLayer (type)                 Output Shape              Param #   \n\u003d\u003d\u003d\u003d\u003d\u003d\u003d\u003d\u003d\u003d\u003d\u003d\u003d\u003d\u003d\u003d\u003d\u003d\u003d\u003d\u003d\u003d\u003d\u003d\u003d\u003d\u003d\u003d\u003d\u003d\u003d\u003d\u003d\u003d\u003d\u003d\u003d\u003d\u003d\u003d\u003d\u003d\u003d\u003d\u003d\u003d\u003d\u003d\u003d\u003d\u003d\u003d\u003d\u003d\u003d\u003d\u003d\u003d\u003d\u003d\u003d\u003d\u003d\u003d\u003d\ninput_1 (InputLayer)         (None, 7)                 0         \n_________________________________________________________________\ndense (Dense)                (None, 600)               4800      \n_________________________________________________________________\ndense_1 (Dense)              (None, 600)               360600    \n_________________________________________________________________\ndense_2 (Dense)              (None, 600)               360600    \n_________________________________________________________________\ndense_3 (Dense)              (None, 600)               360600    \n_________________________________________________________________\ndense_4 (Dense)              (None, 600)               360600    \n_________________________________________________________________\ndense_5 (Dense)              (None, 3)                 1803      \n\u003d\u003d\u003d\u003d\u003d\u003d\u003d\u003d\u003d\u003d\u003d\u003d\u003d\u003d\u003d\u003d\u003d\u003d\u003d\u003d\u003d\u003d\u003d\u003d\u003d\u003d\u003d\u003d\u003d\u003d\u003d\u003d\u003d\u003d\u003d\u003d\u003d\u003d\u003d\u003d\u003d\u003d\u003d\u003d\u003d\u003d\u003d\u003d\u003d\u003d\u003d\u003d\u003d\u003d\u003d\u003d\u003d\u003d\u003d\u003d\u003d\u003d\u003d\u003d\u003d\nTotal params: 1,449,003\nTrainable params: 1,449,003\nNon-trainable params: 0\n_________________________________________________________________\nbatch size: 50000\nEpoch 1/5\n"
          ],
          "output_type": "stream"
        }
      ],
      "source": "\nimport os, sys\n\nsys.path.insert(0, os.path.join(os.getcwd(), \u0027source\u0027))\n\nimport image_based_relighting as ibr\nm \u003d ibr.run(os.path.join(\"data\", \"waldorf\"))\n\n"
    }
  ],
  "metadata": {
    "language_info": {
      "codemirror_mode": {
        "name": "ipython",
        "version": 2
      },
      "file_extension": ".py",
      "mimetype": "text/x-python",
      "name": "python",
      "nbconvert_exporter": "python",
      "pygments_lexer": "ipython2",
      "version": "2.7.6"
    },
    "kernelspec": {
      "name": "python3",
      "language": "python",
      "display_name": "Python 3"
    }
  },
  "nbformat": 4,
  "nbformat_minor": 0
}